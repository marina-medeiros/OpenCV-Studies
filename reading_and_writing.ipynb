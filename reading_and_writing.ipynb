{
 "cells": [
  {
   "cell_type": "code",
   "execution_count": 4,
   "id": "4c1295b7",
   "metadata": {},
   "outputs": [
    {
     "name": "stdout",
     "output_type": "stream",
     "text": [
      "Requirement already satisfied: opencv-python in /home/marina/Downloads/anaconda3/envs/KNCVU/lib/python3.11/site-packages (4.12.0.88)\n",
      "Requirement already satisfied: numpy<2.3.0,>=2 in /home/marina/Downloads/anaconda3/envs/KNCVU/lib/python3.11/site-packages (from opencv-python) (2.2.6)\n",
      "Note: you may need to restart the kernel to use updated packages.\n",
      "Requirement already satisfied: ipykernel in /home/marina/Downloads/anaconda3/envs/KNCVU/lib/python3.11/site-packages (6.30.1)\n",
      "Requirement already satisfied: comm>=0.1.1 in /home/marina/Downloads/anaconda3/envs/KNCVU/lib/python3.11/site-packages (from ipykernel) (0.2.3)\n",
      "Requirement already satisfied: debugpy>=1.6.5 in /home/marina/Downloads/anaconda3/envs/KNCVU/lib/python3.11/site-packages (from ipykernel) (1.8.16)\n",
      "Requirement already satisfied: ipython>=7.23.1 in /home/marina/Downloads/anaconda3/envs/KNCVU/lib/python3.11/site-packages (from ipykernel) (9.4.0)\n",
      "Requirement already satisfied: jupyter-client>=8.0.0 in /home/marina/Downloads/anaconda3/envs/KNCVU/lib/python3.11/site-packages (from ipykernel) (8.6.3)\n",
      "Requirement already satisfied: jupyter-core!=5.0.*,>=4.12 in /home/marina/Downloads/anaconda3/envs/KNCVU/lib/python3.11/site-packages (from ipykernel) (5.8.1)\n",
      "Requirement already satisfied: matplotlib-inline>=0.1 in /home/marina/Downloads/anaconda3/envs/KNCVU/lib/python3.11/site-packages (from ipykernel) (0.1.7)\n",
      "Requirement already satisfied: nest-asyncio>=1.4 in /home/marina/Downloads/anaconda3/envs/KNCVU/lib/python3.11/site-packages (from ipykernel) (1.6.0)\n",
      "Requirement already satisfied: packaging>=22 in /home/marina/Downloads/anaconda3/envs/KNCVU/lib/python3.11/site-packages (from ipykernel) (25.0)\n",
      "Requirement already satisfied: psutil>=5.7 in /home/marina/Downloads/anaconda3/envs/KNCVU/lib/python3.11/site-packages (from ipykernel) (7.0.0)\n",
      "Requirement already satisfied: pyzmq>=25 in /home/marina/Downloads/anaconda3/envs/KNCVU/lib/python3.11/site-packages (from ipykernel) (27.0.1)\n",
      "Requirement already satisfied: tornado>=6.2 in /home/marina/Downloads/anaconda3/envs/KNCVU/lib/python3.11/site-packages (from ipykernel) (6.5.2)\n",
      "Requirement already satisfied: traitlets>=5.4.0 in /home/marina/Downloads/anaconda3/envs/KNCVU/lib/python3.11/site-packages (from ipykernel) (5.14.3)\n",
      "Requirement already satisfied: decorator in /home/marina/Downloads/anaconda3/envs/KNCVU/lib/python3.11/site-packages (from ipython>=7.23.1->ipykernel) (5.2.1)\n",
      "Requirement already satisfied: ipython-pygments-lexers in /home/marina/Downloads/anaconda3/envs/KNCVU/lib/python3.11/site-packages (from ipython>=7.23.1->ipykernel) (1.1.1)\n",
      "Requirement already satisfied: jedi>=0.16 in /home/marina/Downloads/anaconda3/envs/KNCVU/lib/python3.11/site-packages (from ipython>=7.23.1->ipykernel) (0.19.2)\n",
      "Requirement already satisfied: pexpect>4.3 in /home/marina/Downloads/anaconda3/envs/KNCVU/lib/python3.11/site-packages (from ipython>=7.23.1->ipykernel) (4.9.0)\n",
      "Requirement already satisfied: prompt_toolkit<3.1.0,>=3.0.41 in /home/marina/Downloads/anaconda3/envs/KNCVU/lib/python3.11/site-packages (from ipython>=7.23.1->ipykernel) (3.0.51)\n",
      "Requirement already satisfied: pygments>=2.4.0 in /home/marina/Downloads/anaconda3/envs/KNCVU/lib/python3.11/site-packages (from ipython>=7.23.1->ipykernel) (2.19.2)\n",
      "Requirement already satisfied: stack_data in /home/marina/Downloads/anaconda3/envs/KNCVU/lib/python3.11/site-packages (from ipython>=7.23.1->ipykernel) (0.6.3)\n",
      "Requirement already satisfied: typing_extensions>=4.6 in /home/marina/Downloads/anaconda3/envs/KNCVU/lib/python3.11/site-packages (from ipython>=7.23.1->ipykernel) (4.14.1)\n",
      "Requirement already satisfied: wcwidth in /home/marina/Downloads/anaconda3/envs/KNCVU/lib/python3.11/site-packages (from prompt_toolkit<3.1.0,>=3.0.41->ipython>=7.23.1->ipykernel) (0.2.13)\n",
      "Requirement already satisfied: parso<0.9.0,>=0.8.4 in /home/marina/Downloads/anaconda3/envs/KNCVU/lib/python3.11/site-packages (from jedi>=0.16->ipython>=7.23.1->ipykernel) (0.8.4)\n",
      "Requirement already satisfied: python-dateutil>=2.8.2 in /home/marina/Downloads/anaconda3/envs/KNCVU/lib/python3.11/site-packages (from jupyter-client>=8.0.0->ipykernel) (2.9.0.post0)\n",
      "Requirement already satisfied: platformdirs>=2.5 in /home/marina/Downloads/anaconda3/envs/KNCVU/lib/python3.11/site-packages (from jupyter-core!=5.0.*,>=4.12->ipykernel) (4.3.8)\n",
      "Requirement already satisfied: ptyprocess>=0.5 in /home/marina/Downloads/anaconda3/envs/KNCVU/lib/python3.11/site-packages (from pexpect>4.3->ipython>=7.23.1->ipykernel) (0.7.0)\n",
      "Requirement already satisfied: six>=1.5 in /home/marina/Downloads/anaconda3/envs/KNCVU/lib/python3.11/site-packages (from python-dateutil>=2.8.2->jupyter-client>=8.0.0->ipykernel) (1.17.0)\n",
      "Requirement already satisfied: executing>=1.2.0 in /home/marina/Downloads/anaconda3/envs/KNCVU/lib/python3.11/site-packages (from stack_data->ipython>=7.23.1->ipykernel) (2.2.0)\n",
      "Requirement already satisfied: asttokens>=2.1.0 in /home/marina/Downloads/anaconda3/envs/KNCVU/lib/python3.11/site-packages (from stack_data->ipython>=7.23.1->ipykernel) (3.0.0)\n",
      "Requirement already satisfied: pure_eval in /home/marina/Downloads/anaconda3/envs/KNCVU/lib/python3.11/site-packages (from stack_data->ipython>=7.23.1->ipykernel) (0.2.3)\n",
      "Note: you may need to restart the kernel to use updated packages.\n"
     ]
    }
   ],
   "source": [
    "%pip install opencv-python\n",
    "%pip install ipykernel"
   ]
  },
  {
   "cell_type": "code",
   "execution_count": 5,
   "id": "8487f538",
   "metadata": {},
   "outputs": [],
   "source": [
    "import cv2"
   ]
  },
  {
   "cell_type": "code",
   "execution_count": 6,
   "id": "d0405716",
   "metadata": {},
   "outputs": [],
   "source": [
    "# Read the image\n",
    "image = cv2.imread(\"./mountain.jpg\")"
   ]
  },
  {
   "cell_type": "code",
   "execution_count": 11,
   "id": "79851d01",
   "metadata": {},
   "outputs": [
    {
     "name": "stdout",
     "output_type": "stream",
     "text": [
      "Image loaded successfully.\n"
     ]
    }
   ],
   "source": [
    "# check if image is loaded successfully\n",
    "\n",
    "if image is None:\n",
    "    print((\"Error: Could not load the image\"))\n",
    "else:\n",
    "    print(\"Image loaded successfully.\")"
   ]
  },
  {
   "cell_type": "code",
   "execution_count": 10,
   "id": "34d438a9",
   "metadata": {},
   "outputs": [],
   "source": [
    "# Display the image\n",
    "\n",
    "cv2.imshow(\"Image window\", image)\n",
    "cv2.waitKey(0) # Pauses the program, untill a key is pressed.\n",
    "cv2.destroyAllWindows() # Reases the memory"
   ]
  },
  {
   "cell_type": "code",
   "execution_count": null,
   "id": "e19bb08f",
   "metadata": {},
   "outputs": [
    {
     "data": {
      "text/plain": [
       "True"
      ]
     },
     "execution_count": 14,
     "metadata": {},
     "output_type": "execute_result"
    }
   ],
   "source": [
    "# Write the image\n",
    "\n",
    "image_new = image + 30 # the image is a numpy array. Here, we're adding 30 to all pixels\n",
    "cv2.imwrite(\"./output.jpg\", image_new) # creates a new file"
   ]
  },
  {
   "cell_type": "code",
   "execution_count": null,
   "id": "24bb3f81",
   "metadata": {},
   "outputs": [],
   "source": []
  }
 ],
 "metadata": {
  "kernelspec": {
   "display_name": "KNCVU",
   "language": "python",
   "name": "python3"
  },
  "language_info": {
   "codemirror_mode": {
    "name": "ipython",
    "version": 3
   },
   "file_extension": ".py",
   "mimetype": "text/x-python",
   "name": "python",
   "nbconvert_exporter": "python",
   "pygments_lexer": "ipython3",
   "version": "3.11.13"
  }
 },
 "nbformat": 4,
 "nbformat_minor": 5
}
