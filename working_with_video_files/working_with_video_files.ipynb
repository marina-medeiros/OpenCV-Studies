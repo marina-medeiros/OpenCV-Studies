{
 "cells": [
  {
   "cell_type": "markdown",
   "id": "ddbef6e9",
   "metadata": {},
   "source": [
    "# Working with video files"
   ]
  },
  {
   "cell_type": "markdown",
   "id": "63b66f07",
   "metadata": {},
   "source": [
    "## Introduction"
   ]
  },
  {
   "cell_type": "markdown",
   "id": "e2767b00",
   "metadata": {},
   "source": [
    "Standard FPS:\n",
    "\n",
    "- 24 FPS: Standard movies\n",
    "-  30 FPS: Common TV shows and oline videos\n",
    "- 60 FPS: Sports, gaming"
   ]
  },
  {
   "cell_type": "markdown",
   "id": "01e3036b",
   "metadata": {},
   "source": [
    "Codec:\n",
    "\n",
    "Algorithm used to compress & decompress digital media files."
   ]
  },
  {
   "cell_type": "markdown",
   "id": "74a2139e",
   "metadata": {},
   "source": [
    "Common file formats: mp4, avi, mkv\n",
    "\n",
    "FourCC: 4 character code\n",
    "\n",
    "- MP4V: Good for general purpose video compression. File format: .mp4, .avi\n",
    "\n",
    "- HEVC/H.265: Better compression for higher resolution like 4k, 8k.\n",
    "\n",
    "- H.264: Highly efficient, minimal quality loss. File format: .mp4, .mkv"
   ]
  },
  {
   "cell_type": "markdown",
   "id": "9e24140c",
   "metadata": {},
   "source": []
  },
  {
   "cell_type": "markdown",
   "id": "8fe29d4e",
   "metadata": {},
   "source": [
    "## Code"
   ]
  },
  {
   "cell_type": "code",
   "execution_count": 1,
   "id": "52551810",
   "metadata": {},
   "outputs": [],
   "source": [
    "import cv2"
   ]
  },
  {
   "cell_type": "code",
   "execution_count": null,
   "id": "63251faa",
   "metadata": {},
   "outputs": [],
   "source": []
  }
 ],
 "metadata": {
  "kernelspec": {
   "display_name": "KNCVU",
   "language": "python",
   "name": "python3"
  },
  "language_info": {
   "codemirror_mode": {
    "name": "ipython",
    "version": 3
   },
   "file_extension": ".py",
   "mimetype": "text/x-python",
   "name": "python",
   "nbconvert_exporter": "python",
   "pygments_lexer": "ipython3",
   "version": "3.11.13"
  }
 },
 "nbformat": 4,
 "nbformat_minor": 5
}
